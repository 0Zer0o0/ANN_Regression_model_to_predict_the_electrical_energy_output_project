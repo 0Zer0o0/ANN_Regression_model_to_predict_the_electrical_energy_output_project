{
  "nbformat": 4,
  "nbformat_minor": 0,
  "metadata": {
    "colab": {
      "provenance": []
    },
    "kernelspec": {
      "name": "python3",
      "display_name": "Python 3"
    }
  },
  "cells": [
    {
      "cell_type": "markdown",
      "metadata": {
        "id": "3cbb7fRy-eyr"
      },
      "source": [
        "# Artificial Neural Network"
      ]
    },
    {
      "cell_type": "markdown",
      "metadata": {
        "id": "8sNDnxE2-pwE"
      },
      "source": [
        "### Importing the libraries"
      ]
    },
    {
      "cell_type": "code",
      "metadata": {
        "id": "lxChR1Rk-umf"
      },
      "source": [
        "import numpy as np\n",
        "import pandas as pd\n",
        "import tensorflow as tf\n",
        "from sklearn.model_selection import train_test_split"
      ],
      "execution_count": 52,
      "outputs": []
    },
    {
      "cell_type": "code",
      "metadata": {
        "id": "uBTqR3nacj0e",
        "colab": {
          "base_uri": "https://localhost:8080/",
          "height": 36
        },
        "outputId": "fc54871e-42d1-483b-f888-44eb52a4b073"
      },
      "source": [
        "tf.__version__"
      ],
      "execution_count": 53,
      "outputs": [
        {
          "output_type": "execute_result",
          "data": {
            "text/plain": [
              "'2.13.0'"
            ],
            "application/vnd.google.colaboratory.intrinsic+json": {
              "type": "string"
            }
          },
          "metadata": {},
          "execution_count": 53
        }
      ]
    },
    {
      "cell_type": "markdown",
      "metadata": {
        "id": "AG3FQEch-yuA"
      },
      "source": [
        "## Part 1 - Data Preprocessing"
      ]
    },
    {
      "cell_type": "markdown",
      "metadata": {
        "id": "-4zq8Mza_D9O"
      },
      "source": [
        "### Importing the dataset"
      ]
    },
    {
      "cell_type": "code",
      "source": [
        "from google.colab import drive\n",
        "drive.mount('/content/drive')"
      ],
      "metadata": {
        "colab": {
          "base_uri": "https://localhost:8080/"
        },
        "id": "rRBDxUUGq5tK",
        "outputId": "ba389cb7-2fe4-41c2-9594-d3ba9a90635e"
      },
      "execution_count": 54,
      "outputs": [
        {
          "output_type": "stream",
          "name": "stdout",
          "text": [
            "Drive already mounted at /content/drive; to attempt to forcibly remount, call drive.mount(\"/content/drive\", force_remount=True).\n"
          ]
        }
      ]
    },
    {
      "cell_type": "code",
      "metadata": {
        "id": "B9CV13Co_HHM"
      },
      "source": [
        "df = pd.read_excel(\"/content/drive/MyDrive/Data_Sets/Folds5x2_pp.xlsx\")\n",
        "X=df.iloc[:,:-1].values\n",
        "y=df.iloc[:,-1].values"
      ],
      "execution_count": 55,
      "outputs": []
    },
    {
      "cell_type": "markdown",
      "metadata": {
        "id": "VC6omXel_Up0"
      },
      "source": [
        "### Splitting the dataset into the Training set and Test set"
      ]
    },
    {
      "cell_type": "code",
      "metadata": {
        "id": "L5edeb2r_agx"
      },
      "source": [
        "X_train,X_test,y_train,y_test=train_test_split(\n",
        "    X,y,\n",
        "    train_size=0.2,\n",
        "    random_state=0\n",
        ")"
      ],
      "execution_count": 56,
      "outputs": []
    },
    {
      "cell_type": "markdown",
      "metadata": {
        "id": "_mSLlAT9_eyI"
      },
      "source": [
        "## Part 2 - Building the ANN"
      ]
    },
    {
      "cell_type": "markdown",
      "metadata": {
        "id": "CsBULd_f_wLY"
      },
      "source": [
        "### Initializing the ANN"
      ]
    },
    {
      "cell_type": "code",
      "metadata": {
        "id": "J6Hd97Ls__Nz"
      },
      "source": [
        "ann=tf.keras.models.Sequential()"
      ],
      "execution_count": 57,
      "outputs": []
    },
    {
      "cell_type": "markdown",
      "metadata": {
        "id": "iitAFJS_ABUn"
      },
      "source": [
        "### Adding the input layer and the first hidden layer"
      ]
    },
    {
      "cell_type": "code",
      "metadata": {
        "id": "ksO_Vv40AHix"
      },
      "source": [
        "ann.add(tf.keras.layers.Dense(units=6, activation='relu'))"
      ],
      "execution_count": 58,
      "outputs": []
    },
    {
      "cell_type": "markdown",
      "metadata": {
        "id": "-lb4kK_wAKbs"
      },
      "source": [
        "### Adding the second hidden layer"
      ]
    },
    {
      "cell_type": "code",
      "metadata": {
        "id": "c2357OqEAQOQ"
      },
      "source": [
        "ann.add(tf.keras.layers.Dense(units=6, activation='relu'))"
      ],
      "execution_count": 59,
      "outputs": []
    },
    {
      "cell_type": "markdown",
      "metadata": {
        "id": "jwMOmKb3AdBY"
      },
      "source": [
        "### Adding the output layer"
      ]
    },
    {
      "cell_type": "code",
      "metadata": {
        "id": "YFATpzsUAkLL"
      },
      "source": [
        "ann.add(tf.keras.layers.Dense(units=1))"
      ],
      "execution_count": 60,
      "outputs": []
    },
    {
      "cell_type": "markdown",
      "metadata": {
        "id": "fq7e4fF6A1yy"
      },
      "source": [
        "## Part 3 - Training the ANN"
      ]
    },
    {
      "cell_type": "markdown",
      "metadata": {
        "id": "qDeylAs2An25"
      },
      "source": [
        "### Compiling the ANN"
      ]
    },
    {
      "cell_type": "code",
      "metadata": {
        "id": "pesgbWlCAtB4"
      },
      "source": [
        "ann.compile(optimizer= 'adam', loss='mean_squared_error')"
      ],
      "execution_count": 61,
      "outputs": []
    },
    {
      "cell_type": "markdown",
      "metadata": {
        "id": "YjVuiybYOo7r"
      },
      "source": [
        "### Training the ANN model on the Training set"
      ]
    },
    {
      "cell_type": "code",
      "metadata": {
        "id": "c_vV-tiiA5zn",
        "colab": {
          "base_uri": "https://localhost:8080/"
        },
        "outputId": "23df7edf-ce7a-4e89-923e-6087155a7cbf"
      },
      "source": [
        "ann.fit(X_train,y_train,batch_size=32,epochs=150)"
      ],
      "execution_count": 62,
      "outputs": [
        {
          "output_type": "stream",
          "name": "stdout",
          "text": [
            "Epoch 1/150\n",
            "60/60 [==============================] - 1s 2ms/step - loss: 51301.9609\n",
            "Epoch 2/150\n",
            "60/60 [==============================] - 0s 2ms/step - loss: 7854.1929\n",
            "Epoch 3/150\n",
            "60/60 [==============================] - 0s 2ms/step - loss: 206.7040\n",
            "Epoch 4/150\n",
            "60/60 [==============================] - 0s 2ms/step - loss: 141.0229\n",
            "Epoch 5/150\n",
            "60/60 [==============================] - 0s 2ms/step - loss: 139.9733\n",
            "Epoch 6/150\n",
            "60/60 [==============================] - 0s 2ms/step - loss: 139.0202\n",
            "Epoch 7/150\n",
            "60/60 [==============================] - 0s 2ms/step - loss: 138.1155\n",
            "Epoch 8/150\n",
            "60/60 [==============================] - 0s 2ms/step - loss: 136.8986\n",
            "Epoch 9/150\n",
            "60/60 [==============================] - 0s 2ms/step - loss: 135.6380\n",
            "Epoch 10/150\n",
            "60/60 [==============================] - 0s 2ms/step - loss: 134.0695\n",
            "Epoch 11/150\n",
            "60/60 [==============================] - 0s 2ms/step - loss: 132.8940\n",
            "Epoch 12/150\n",
            "60/60 [==============================] - 0s 2ms/step - loss: 131.2102\n",
            "Epoch 13/150\n",
            "60/60 [==============================] - 0s 2ms/step - loss: 129.9471\n",
            "Epoch 14/150\n",
            "60/60 [==============================] - 0s 2ms/step - loss: 128.1069\n",
            "Epoch 15/150\n",
            "60/60 [==============================] - 0s 2ms/step - loss: 126.9070\n",
            "Epoch 16/150\n",
            "60/60 [==============================] - 0s 2ms/step - loss: 124.7167\n",
            "Epoch 17/150\n",
            "60/60 [==============================] - 0s 2ms/step - loss: 122.8198\n",
            "Epoch 18/150\n",
            "60/60 [==============================] - 0s 2ms/step - loss: 121.9117\n",
            "Epoch 19/150\n",
            "60/60 [==============================] - 0s 2ms/step - loss: 119.7021\n",
            "Epoch 20/150\n",
            "60/60 [==============================] - 0s 2ms/step - loss: 117.4353\n",
            "Epoch 21/150\n",
            "60/60 [==============================] - 0s 2ms/step - loss: 116.0677\n",
            "Epoch 22/150\n",
            "60/60 [==============================] - 0s 2ms/step - loss: 113.7592\n",
            "Epoch 23/150\n",
            "60/60 [==============================] - 0s 2ms/step - loss: 111.5343\n",
            "Epoch 24/150\n",
            "60/60 [==============================] - 0s 2ms/step - loss: 109.9790\n",
            "Epoch 25/150\n",
            "60/60 [==============================] - 0s 2ms/step - loss: 107.7510\n",
            "Epoch 26/150\n",
            "60/60 [==============================] - 0s 2ms/step - loss: 105.8658\n",
            "Epoch 27/150\n",
            "60/60 [==============================] - 0s 2ms/step - loss: 103.8432\n",
            "Epoch 28/150\n",
            "60/60 [==============================] - 0s 2ms/step - loss: 101.7502\n",
            "Epoch 29/150\n",
            "60/60 [==============================] - 0s 2ms/step - loss: 100.0422\n",
            "Epoch 30/150\n",
            "60/60 [==============================] - 0s 2ms/step - loss: 97.7102\n",
            "Epoch 31/150\n",
            "60/60 [==============================] - 0s 2ms/step - loss: 95.8899\n",
            "Epoch 32/150\n",
            "60/60 [==============================] - 0s 2ms/step - loss: 93.4198\n",
            "Epoch 33/150\n",
            "60/60 [==============================] - 0s 2ms/step - loss: 91.4352\n",
            "Epoch 34/150\n",
            "60/60 [==============================] - 0s 2ms/step - loss: 90.4004\n",
            "Epoch 35/150\n",
            "60/60 [==============================] - 0s 2ms/step - loss: 87.7597\n",
            "Epoch 36/150\n",
            "60/60 [==============================] - 0s 2ms/step - loss: 85.9346\n",
            "Epoch 37/150\n",
            "60/60 [==============================] - 0s 2ms/step - loss: 83.9512\n",
            "Epoch 38/150\n",
            "60/60 [==============================] - 0s 2ms/step - loss: 82.1072\n",
            "Epoch 39/150\n",
            "60/60 [==============================] - 0s 2ms/step - loss: 80.1174\n",
            "Epoch 40/150\n",
            "60/60 [==============================] - 0s 2ms/step - loss: 78.1100\n",
            "Epoch 41/150\n",
            "60/60 [==============================] - 0s 2ms/step - loss: 76.8125\n",
            "Epoch 42/150\n",
            "60/60 [==============================] - 0s 2ms/step - loss: 74.9366\n",
            "Epoch 43/150\n",
            "60/60 [==============================] - 0s 2ms/step - loss: 73.2473\n",
            "Epoch 44/150\n",
            "60/60 [==============================] - 0s 2ms/step - loss: 71.6453\n",
            "Epoch 45/150\n",
            "60/60 [==============================] - 0s 2ms/step - loss: 69.7983\n",
            "Epoch 46/150\n",
            "60/60 [==============================] - 0s 2ms/step - loss: 68.2844\n",
            "Epoch 47/150\n",
            "60/60 [==============================] - 0s 2ms/step - loss: 66.8912\n",
            "Epoch 48/150\n",
            "60/60 [==============================] - 0s 2ms/step - loss: 65.1798\n",
            "Epoch 49/150\n",
            "60/60 [==============================] - 0s 2ms/step - loss: 63.6494\n",
            "Epoch 50/150\n",
            "60/60 [==============================] - 0s 2ms/step - loss: 62.5259\n",
            "Epoch 51/150\n",
            "60/60 [==============================] - 0s 2ms/step - loss: 61.1904\n",
            "Epoch 52/150\n",
            "60/60 [==============================] - 0s 2ms/step - loss: 60.0067\n",
            "Epoch 53/150\n",
            "60/60 [==============================] - 0s 2ms/step - loss: 58.6518\n",
            "Epoch 54/150\n",
            "60/60 [==============================] - 0s 2ms/step - loss: 57.4223\n",
            "Epoch 55/150\n",
            "60/60 [==============================] - 0s 2ms/step - loss: 56.1197\n",
            "Epoch 56/150\n",
            "60/60 [==============================] - 0s 2ms/step - loss: 55.1952\n",
            "Epoch 57/150\n",
            "60/60 [==============================] - 0s 2ms/step - loss: 54.0272\n",
            "Epoch 58/150\n",
            "60/60 [==============================] - 0s 2ms/step - loss: 53.4314\n",
            "Epoch 59/150\n",
            "60/60 [==============================] - 0s 2ms/step - loss: 52.4616\n",
            "Epoch 60/150\n",
            "60/60 [==============================] - 0s 2ms/step - loss: 51.6830\n",
            "Epoch 61/150\n",
            "60/60 [==============================] - 0s 2ms/step - loss: 50.7820\n",
            "Epoch 62/150\n",
            "60/60 [==============================] - 0s 2ms/step - loss: 49.6735\n",
            "Epoch 63/150\n",
            "60/60 [==============================] - 0s 2ms/step - loss: 48.7511\n",
            "Epoch 64/150\n",
            "60/60 [==============================] - 0s 2ms/step - loss: 48.2547\n",
            "Epoch 65/150\n",
            "60/60 [==============================] - 0s 2ms/step - loss: 47.8873\n",
            "Epoch 66/150\n",
            "60/60 [==============================] - 0s 2ms/step - loss: 46.9189\n",
            "Epoch 67/150\n",
            "60/60 [==============================] - 0s 2ms/step - loss: 46.5508\n",
            "Epoch 68/150\n",
            "60/60 [==============================] - 0s 2ms/step - loss: 45.9417\n",
            "Epoch 69/150\n",
            "60/60 [==============================] - 0s 2ms/step - loss: 45.4146\n",
            "Epoch 70/150\n",
            "60/60 [==============================] - 0s 2ms/step - loss: 44.7647\n",
            "Epoch 71/150\n",
            "60/60 [==============================] - 0s 2ms/step - loss: 44.3632\n",
            "Epoch 72/150\n",
            "60/60 [==============================] - 0s 2ms/step - loss: 43.8004\n",
            "Epoch 73/150\n",
            "60/60 [==============================] - 0s 2ms/step - loss: 43.4133\n",
            "Epoch 74/150\n",
            "60/60 [==============================] - 0s 2ms/step - loss: 43.0808\n",
            "Epoch 75/150\n",
            "60/60 [==============================] - 0s 2ms/step - loss: 41.8507\n",
            "Epoch 76/150\n",
            "60/60 [==============================] - 0s 3ms/step - loss: 41.7718\n",
            "Epoch 77/150\n",
            "60/60 [==============================] - 0s 3ms/step - loss: 41.2716\n",
            "Epoch 78/150\n",
            "60/60 [==============================] - 0s 3ms/step - loss: 40.8386\n",
            "Epoch 79/150\n",
            "60/60 [==============================] - 0s 3ms/step - loss: 40.3695\n",
            "Epoch 80/150\n",
            "60/60 [==============================] - 0s 3ms/step - loss: 40.3182\n",
            "Epoch 81/150\n",
            "60/60 [==============================] - 0s 3ms/step - loss: 40.2678\n",
            "Epoch 82/150\n",
            "60/60 [==============================] - 0s 3ms/step - loss: 39.0104\n",
            "Epoch 83/150\n",
            "60/60 [==============================] - 0s 3ms/step - loss: 38.9560\n",
            "Epoch 84/150\n",
            "60/60 [==============================] - 0s 3ms/step - loss: 39.6431\n",
            "Epoch 85/150\n",
            "60/60 [==============================] - 0s 3ms/step - loss: 38.1609\n",
            "Epoch 86/150\n",
            "60/60 [==============================] - 0s 3ms/step - loss: 38.2707\n",
            "Epoch 87/150\n",
            "60/60 [==============================] - 0s 3ms/step - loss: 37.7662\n",
            "Epoch 88/150\n",
            "60/60 [==============================] - 0s 2ms/step - loss: 37.4839\n",
            "Epoch 89/150\n",
            "60/60 [==============================] - 0s 3ms/step - loss: 37.8280\n",
            "Epoch 90/150\n",
            "60/60 [==============================] - 0s 3ms/step - loss: 36.6624\n",
            "Epoch 91/150\n",
            "60/60 [==============================] - 0s 3ms/step - loss: 37.5808\n",
            "Epoch 92/150\n",
            "60/60 [==============================] - 0s 3ms/step - loss: 36.7308\n",
            "Epoch 93/150\n",
            "60/60 [==============================] - 0s 3ms/step - loss: 36.1506\n",
            "Epoch 94/150\n",
            "60/60 [==============================] - 0s 3ms/step - loss: 35.6697\n",
            "Epoch 95/150\n",
            "60/60 [==============================] - 0s 3ms/step - loss: 35.5980\n",
            "Epoch 96/150\n",
            "60/60 [==============================] - 0s 2ms/step - loss: 35.0574\n",
            "Epoch 97/150\n",
            "60/60 [==============================] - 0s 3ms/step - loss: 34.9828\n",
            "Epoch 98/150\n",
            "60/60 [==============================] - 0s 3ms/step - loss: 35.0148\n",
            "Epoch 99/150\n",
            "60/60 [==============================] - 0s 3ms/step - loss: 34.8148\n",
            "Epoch 100/150\n",
            "60/60 [==============================] - 0s 3ms/step - loss: 34.8437\n",
            "Epoch 101/150\n",
            "60/60 [==============================] - 0s 3ms/step - loss: 34.6789\n",
            "Epoch 102/150\n",
            "60/60 [==============================] - 0s 2ms/step - loss: 34.0787\n",
            "Epoch 103/150\n",
            "60/60 [==============================] - 0s 2ms/step - loss: 33.8969\n",
            "Epoch 104/150\n",
            "60/60 [==============================] - 0s 2ms/step - loss: 34.6793\n",
            "Epoch 105/150\n",
            "60/60 [==============================] - 0s 2ms/step - loss: 33.0660\n",
            "Epoch 106/150\n",
            "60/60 [==============================] - 0s 2ms/step - loss: 33.3783\n",
            "Epoch 107/150\n",
            "60/60 [==============================] - 0s 2ms/step - loss: 32.8778\n",
            "Epoch 108/150\n",
            "60/60 [==============================] - 0s 2ms/step - loss: 33.3283\n",
            "Epoch 109/150\n",
            "60/60 [==============================] - 0s 2ms/step - loss: 32.6559\n",
            "Epoch 110/150\n",
            "60/60 [==============================] - 0s 2ms/step - loss: 32.7117\n",
            "Epoch 111/150\n",
            "60/60 [==============================] - 0s 2ms/step - loss: 32.7910\n",
            "Epoch 112/150\n",
            "60/60 [==============================] - 0s 2ms/step - loss: 32.1290\n",
            "Epoch 113/150\n",
            "60/60 [==============================] - 0s 2ms/step - loss: 32.0694\n",
            "Epoch 114/150\n",
            "60/60 [==============================] - 0s 2ms/step - loss: 31.9640\n",
            "Epoch 115/150\n",
            "60/60 [==============================] - 0s 2ms/step - loss: 31.4641\n",
            "Epoch 116/150\n",
            "60/60 [==============================] - 0s 2ms/step - loss: 31.7502\n",
            "Epoch 117/150\n",
            "60/60 [==============================] - 0s 2ms/step - loss: 31.9314\n",
            "Epoch 118/150\n",
            "60/60 [==============================] - 0s 2ms/step - loss: 31.5570\n",
            "Epoch 119/150\n",
            "60/60 [==============================] - 0s 2ms/step - loss: 33.2392\n",
            "Epoch 120/150\n",
            "60/60 [==============================] - 0s 2ms/step - loss: 32.6695\n",
            "Epoch 121/150\n",
            "60/60 [==============================] - 0s 2ms/step - loss: 30.7312\n",
            "Epoch 122/150\n",
            "60/60 [==============================] - 0s 2ms/step - loss: 30.7931\n",
            "Epoch 123/150\n",
            "60/60 [==============================] - 0s 2ms/step - loss: 31.1247\n",
            "Epoch 124/150\n",
            "60/60 [==============================] - 0s 2ms/step - loss: 30.8158\n",
            "Epoch 125/150\n",
            "60/60 [==============================] - 0s 2ms/step - loss: 30.7204\n",
            "Epoch 126/150\n",
            "60/60 [==============================] - 0s 2ms/step - loss: 30.2745\n",
            "Epoch 127/150\n",
            "60/60 [==============================] - 0s 2ms/step - loss: 30.6603\n",
            "Epoch 128/150\n",
            "60/60 [==============================] - 0s 2ms/step - loss: 31.2008\n",
            "Epoch 129/150\n",
            "60/60 [==============================] - 0s 2ms/step - loss: 31.0836\n",
            "Epoch 130/150\n",
            "60/60 [==============================] - 0s 2ms/step - loss: 30.3571\n",
            "Epoch 131/150\n",
            "60/60 [==============================] - 0s 2ms/step - loss: 30.1085\n",
            "Epoch 132/150\n",
            "60/60 [==============================] - 0s 2ms/step - loss: 30.5434\n",
            "Epoch 133/150\n",
            "60/60 [==============================] - 0s 2ms/step - loss: 29.5608\n",
            "Epoch 134/150\n",
            "60/60 [==============================] - 0s 2ms/step - loss: 30.9995\n",
            "Epoch 135/150\n",
            "60/60 [==============================] - 0s 2ms/step - loss: 29.7967\n",
            "Epoch 136/150\n",
            "60/60 [==============================] - 0s 2ms/step - loss: 29.3039\n",
            "Epoch 137/150\n",
            "60/60 [==============================] - 0s 2ms/step - loss: 29.3585\n",
            "Epoch 138/150\n",
            "60/60 [==============================] - 0s 2ms/step - loss: 30.0381\n",
            "Epoch 139/150\n",
            "60/60 [==============================] - 0s 2ms/step - loss: 29.6171\n",
            "Epoch 140/150\n",
            "60/60 [==============================] - 0s 2ms/step - loss: 28.9906\n",
            "Epoch 141/150\n",
            "60/60 [==============================] - 0s 2ms/step - loss: 29.0616\n",
            "Epoch 142/150\n",
            "60/60 [==============================] - 0s 2ms/step - loss: 28.4233\n",
            "Epoch 143/150\n",
            "60/60 [==============================] - 0s 2ms/step - loss: 29.3939\n",
            "Epoch 144/150\n",
            "60/60 [==============================] - 0s 2ms/step - loss: 28.7746\n",
            "Epoch 145/150\n",
            "60/60 [==============================] - 0s 2ms/step - loss: 30.1353\n",
            "Epoch 146/150\n",
            "60/60 [==============================] - 0s 2ms/step - loss: 28.8172\n",
            "Epoch 147/150\n",
            "60/60 [==============================] - 0s 2ms/step - loss: 28.6974\n",
            "Epoch 148/150\n",
            "60/60 [==============================] - 0s 2ms/step - loss: 28.8620\n",
            "Epoch 149/150\n",
            "60/60 [==============================] - 0s 2ms/step - loss: 28.8371\n",
            "Epoch 150/150\n",
            "60/60 [==============================] - 0s 2ms/step - loss: 27.9596\n"
          ]
        },
        {
          "output_type": "execute_result",
          "data": {
            "text/plain": [
              "<keras.src.callbacks.History at 0x7f3530e61ed0>"
            ]
          },
          "metadata": {},
          "execution_count": 62
        }
      ]
    },
    {
      "cell_type": "markdown",
      "metadata": {
        "id": "0H0zKKNEBLD5"
      },
      "source": [
        "### Predicting the results of the Test set"
      ]
    },
    {
      "cell_type": "code",
      "metadata": {
        "id": "IA0yApEmBG1X",
        "colab": {
          "base_uri": "https://localhost:8080/"
        },
        "outputId": "155180ed-7338-45f4-f2dd-4964e1d9f60a"
      },
      "source": [
        "y_pred=ann.predict(X_test)"
      ],
      "execution_count": 65,
      "outputs": [
        {
          "output_type": "stream",
          "name": "stdout",
          "text": [
            "240/240 [==============================] - 0s 1ms/step\n"
          ]
        }
      ]
    },
    {
      "cell_type": "code",
      "source": [
        "np.set_printoptions(precision=2)\n",
        "print(np.concatenate(\n",
        "  (y_pred.reshape(len(y_pred),1),\n",
        "  y_test.reshape(len(y_test),1)),\n",
        "  1\n",
        "))"
      ],
      "metadata": {
        "colab": {
          "base_uri": "https://localhost:8080/"
        },
        "id": "0zhb_cmk0DJb",
        "outputId": "40054195-5903-4ce5-afdd-3b8fcae64cb8"
      },
      "execution_count": 70,
      "outputs": [
        {
          "output_type": "stream",
          "name": "stdout",
          "text": [
            "[[432.59 431.23]\n",
            " [466.03 460.01]\n",
            " [470.8  461.14]\n",
            " ...\n",
            " [443.34 440.96]\n",
            " [456.15 453.99]\n",
            " [435.78 430.57]]\n"
          ]
        }
      ]
    },
    {
      "cell_type": "code",
      "source": [],
      "metadata": {
        "id": "2ZFb5kaa0UOW"
      },
      "execution_count": null,
      "outputs": []
    }
  ]
}